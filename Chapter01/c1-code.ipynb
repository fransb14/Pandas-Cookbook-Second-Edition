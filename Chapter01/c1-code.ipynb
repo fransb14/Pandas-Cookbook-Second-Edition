{
  "cells": [
    {
      "cell_type": "code",
      "source": [
        "# Colab Data\n",
        "!mkdir data\n",
        "!wget https://github.com/fransb14/Pandas-Cookbook-Second-Edition/blob/master/data/movie.csv -o movie.csv\n",
        "!mv movie.csv data"
      ],
      "metadata": {
        "id": "E9gOvtbwLoyR"
      },
      "execution_count": 2,
      "outputs": []
    },
    {
      "cell_type": "markdown",
      "metadata": {
        "id": "DM4jvW6qLF6s"
      },
      "source": [
        "# Chapter 1: Pandas Foundations"
      ]
    },
    {
      "cell_type": "code",
      "execution_count": null,
      "metadata": {
        "lines_to_next_cell": 2,
        "id": "gzfDcZE5LF68"
      },
      "outputs": [],
      "source": [
        "import pandas as pd\n",
        "import numpy as np"
      ]
    },
    {
      "cell_type": "markdown",
      "metadata": {
        "id": "CFBDYKh5LF70"
      },
      "source": [
        "## Introduction"
      ]
    },
    {
      "cell_type": "markdown",
      "metadata": {
        "id": "eKQGT7NILF73"
      },
      "source": [
        "## Dissecting the anatomy of a DataFrame"
      ]
    },
    {
      "cell_type": "code",
      "execution_count": null,
      "metadata": {
        "lines_to_next_cell": 2,
        "id": "c1Roo3xkLF76"
      },
      "outputs": [],
      "source": [
        "pd.set_option('max_columns', 4, 'max_rows', 10)"
      ]
    },
    {
      "cell_type": "code",
      "execution_count": null,
      "metadata": {
        "lines_to_next_cell": 2,
        "id": "bfVWtO5ILF76"
      },
      "outputs": [],
      "source": [
        "movies = pd.read_csv('data/movie.csv')\n",
        "movies.head()"
      ]
    },
    {
      "cell_type": "markdown",
      "metadata": {
        "id": "kvPjRo-6LF78"
      },
      "source": [
        "### How it works..."
      ]
    },
    {
      "cell_type": "markdown",
      "metadata": {
        "id": "hFmtteCHLF7-"
      },
      "source": [
        "## DataFrame Attributes"
      ]
    },
    {
      "cell_type": "markdown",
      "metadata": {
        "id": "bgTL6kVkLF7_"
      },
      "source": [
        "### How to do it... {#how-to-do-it-1}"
      ]
    },
    {
      "cell_type": "code",
      "execution_count": null,
      "metadata": {
        "lines_to_next_cell": 2,
        "id": "INwUahmGLF8D"
      },
      "outputs": [],
      "source": [
        "movies = pd.read_csv('data/movie.csv')\n",
        "columns = movies.columns\n",
        "index = movies.index\n",
        "data = movies.values"
      ]
    },
    {
      "cell_type": "code",
      "execution_count": null,
      "metadata": {
        "lines_to_next_cell": 2,
        "id": "TnxbsApJLF8I"
      },
      "outputs": [],
      "source": [
        "columns"
      ]
    },
    {
      "cell_type": "code",
      "execution_count": null,
      "metadata": {
        "lines_to_next_cell": 2,
        "id": "T8TE2Z8SLF8J"
      },
      "outputs": [],
      "source": [
        "index"
      ]
    },
    {
      "cell_type": "code",
      "execution_count": null,
      "metadata": {
        "lines_to_next_cell": 2,
        "id": "_QliumhCLF8N"
      },
      "outputs": [],
      "source": [
        "data"
      ]
    },
    {
      "cell_type": "code",
      "execution_count": null,
      "metadata": {
        "lines_to_next_cell": 2,
        "id": "Kamh9mVqLF8P"
      },
      "outputs": [],
      "source": [
        "type(index)"
      ]
    },
    {
      "cell_type": "code",
      "execution_count": null,
      "metadata": {
        "lines_to_next_cell": 2,
        "id": "92eyaAftLF8Q"
      },
      "outputs": [],
      "source": [
        "type(columns)"
      ]
    },
    {
      "cell_type": "code",
      "execution_count": null,
      "metadata": {
        "lines_to_next_cell": 2,
        "id": "v9a5A9S_LF8T"
      },
      "outputs": [],
      "source": [
        "type(data)"
      ]
    },
    {
      "cell_type": "code",
      "execution_count": null,
      "metadata": {
        "lines_to_next_cell": 2,
        "id": "pzB_-RM4LF8V"
      },
      "outputs": [],
      "source": [
        "issubclass(pd.RangeIndex, pd.Index)"
      ]
    },
    {
      "cell_type": "markdown",
      "metadata": {
        "id": "g-L-HwiiLF8Z"
      },
      "source": [
        "### How it works..."
      ]
    },
    {
      "cell_type": "markdown",
      "metadata": {
        "id": "0WZlCWHqLF8Z"
      },
      "source": [
        "### There's more"
      ]
    },
    {
      "cell_type": "code",
      "execution_count": null,
      "metadata": {
        "lines_to_next_cell": 2,
        "id": "hVF9Sx9NLF8c"
      },
      "outputs": [],
      "source": [
        "index.values"
      ]
    },
    {
      "cell_type": "code",
      "execution_count": null,
      "metadata": {
        "lines_to_next_cell": 2,
        "id": "JLtu0CRnLF8d"
      },
      "outputs": [],
      "source": [
        "columns.values"
      ]
    },
    {
      "cell_type": "markdown",
      "metadata": {
        "id": "jvdVNFPCLF8x"
      },
      "source": [
        "## Understanding data types"
      ]
    },
    {
      "cell_type": "markdown",
      "metadata": {
        "id": "gqlI-gHcLF8y"
      },
      "source": [
        "### How to do it... {#how-to-do-it-2}"
      ]
    },
    {
      "cell_type": "code",
      "execution_count": null,
      "metadata": {
        "lines_to_next_cell": 2,
        "id": "az1BhHN-LF8z"
      },
      "outputs": [],
      "source": [
        "movies = pd.read_csv('data/movie.csv')"
      ]
    },
    {
      "cell_type": "code",
      "execution_count": null,
      "metadata": {
        "lines_to_next_cell": 2,
        "id": "mMuWeFPXLF8z"
      },
      "outputs": [],
      "source": [
        "movies.dtypes"
      ]
    },
    {
      "cell_type": "code",
      "execution_count": null,
      "metadata": {
        "lines_to_next_cell": 2,
        "id": "A3_Wa0w5LF80"
      },
      "outputs": [],
      "source": [
        "movies.get_dtype_counts()"
      ]
    },
    {
      "cell_type": "code",
      "execution_count": null,
      "metadata": {
        "lines_to_next_cell": 2,
        "id": "7VgmeIEpLF80"
      },
      "outputs": [],
      "source": [
        "movies.info()"
      ]
    },
    {
      "cell_type": "markdown",
      "metadata": {
        "id": "-6_rgG5HLF81"
      },
      "source": [
        "### How it works..."
      ]
    },
    {
      "cell_type": "code",
      "execution_count": null,
      "metadata": {
        "lines_to_next_cell": 2,
        "id": "emwTLS1GLF81"
      },
      "outputs": [],
      "source": [
        "pd.Series(['Paul', np.nan, 'George']).dtype"
      ]
    },
    {
      "cell_type": "markdown",
      "metadata": {
        "id": "OfSLVIS1LF83"
      },
      "source": [
        "## Selecting a Column"
      ]
    },
    {
      "cell_type": "markdown",
      "metadata": {
        "id": "AhJ0a8hnLF85"
      },
      "source": [
        "### How to do it... {#how-to-do-it-3}"
      ]
    },
    {
      "cell_type": "code",
      "execution_count": null,
      "metadata": {
        "lines_to_next_cell": 2,
        "id": "WOVtLus-LF86"
      },
      "outputs": [],
      "source": [
        "movies = pd.read_csv('data/movie.csv')\n",
        "movies['director_name']"
      ]
    },
    {
      "cell_type": "code",
      "execution_count": null,
      "metadata": {
        "lines_to_next_cell": 2,
        "id": "e72bWlp9LF88"
      },
      "outputs": [],
      "source": [
        "movies.director_name"
      ]
    },
    {
      "cell_type": "code",
      "execution_count": null,
      "metadata": {
        "lines_to_next_cell": 2,
        "id": "h-ypoMYgLF88"
      },
      "outputs": [],
      "source": [
        "movies.loc[:, 'director_name']"
      ]
    },
    {
      "cell_type": "code",
      "execution_count": null,
      "metadata": {
        "lines_to_next_cell": 2,
        "id": "xdXGKBhVLF89"
      },
      "outputs": [],
      "source": [
        "movies.iloc[:, 1]"
      ]
    },
    {
      "cell_type": "code",
      "execution_count": null,
      "metadata": {
        "lines_to_next_cell": 2,
        "id": "dmUMMSFALF8-"
      },
      "outputs": [],
      "source": [
        "movies['director_name'].index"
      ]
    },
    {
      "cell_type": "code",
      "execution_count": null,
      "metadata": {
        "lines_to_next_cell": 2,
        "id": "7cO0k2CTLF8-"
      },
      "outputs": [],
      "source": [
        "movies['director_name'].dtype"
      ]
    },
    {
      "cell_type": "code",
      "execution_count": null,
      "metadata": {
        "lines_to_next_cell": 2,
        "id": "FwyB3SUpLF8_"
      },
      "outputs": [],
      "source": [
        "movies['director_name'].size"
      ]
    },
    {
      "cell_type": "code",
      "execution_count": null,
      "metadata": {
        "lines_to_next_cell": 2,
        "id": "wW-avtgcLF8_"
      },
      "outputs": [],
      "source": [
        "movies['director_name'].name"
      ]
    },
    {
      "cell_type": "code",
      "execution_count": null,
      "metadata": {
        "lines_to_next_cell": 2,
        "id": "1W7cgwngLF9A"
      },
      "outputs": [],
      "source": [
        "type(movies['director_name'])"
      ]
    },
    {
      "cell_type": "code",
      "execution_count": null,
      "metadata": {
        "lines_to_next_cell": 2,
        "id": "4ozuAKhsLF9A"
      },
      "outputs": [],
      "source": [
        "movies['director_name'].apply(type).unique()"
      ]
    },
    {
      "cell_type": "markdown",
      "metadata": {
        "id": "WwQlK8ZSLF9A"
      },
      "source": [
        "### How it works..."
      ]
    },
    {
      "cell_type": "markdown",
      "metadata": {
        "id": "WHC0uR6uLF9B"
      },
      "source": [
        "### There's more"
      ]
    },
    {
      "cell_type": "markdown",
      "metadata": {
        "id": "YWdAYJ7OLF9B"
      },
      "source": [
        "### See also"
      ]
    },
    {
      "cell_type": "markdown",
      "metadata": {
        "id": "fZNx7Ql4LF9B"
      },
      "source": [
        "## Calling Series Methods"
      ]
    },
    {
      "cell_type": "code",
      "execution_count": null,
      "metadata": {
        "lines_to_next_cell": 2,
        "id": "JeqK3IYJLF9C"
      },
      "outputs": [],
      "source": [
        "s_attr_methods = set(dir(pd.Series))\n",
        "len(s_attr_methods)"
      ]
    },
    {
      "cell_type": "code",
      "execution_count": null,
      "metadata": {
        "lines_to_next_cell": 2,
        "id": "tBEPbiGyLF9C"
      },
      "outputs": [],
      "source": [
        "df_attr_methods = set(dir(pd.DataFrame))\n",
        "len(df_attr_methods)"
      ]
    },
    {
      "cell_type": "code",
      "execution_count": null,
      "metadata": {
        "lines_to_next_cell": 2,
        "id": "59GKADigLF9E"
      },
      "outputs": [],
      "source": [
        "len(s_attr_methods & df_attr_methods)"
      ]
    },
    {
      "cell_type": "markdown",
      "metadata": {
        "id": "1IjI3XwvLF9F"
      },
      "source": [
        "### How to do it... {#how-to-do-it-4}"
      ]
    },
    {
      "cell_type": "code",
      "execution_count": null,
      "metadata": {
        "lines_to_next_cell": 2,
        "id": "0iwV7GfNLF9G"
      },
      "outputs": [],
      "source": [
        "movies = pd.read_csv('data/movie.csv')\n",
        "director = movies['director_name']\n",
        "fb_likes = movies['actor_1_facebook_likes']"
      ]
    },
    {
      "cell_type": "code",
      "execution_count": null,
      "metadata": {
        "lines_to_next_cell": 2,
        "id": "C1wmUncJLF9G"
      },
      "outputs": [],
      "source": [
        "director.dtype"
      ]
    },
    {
      "cell_type": "code",
      "execution_count": null,
      "metadata": {
        "lines_to_next_cell": 2,
        "id": "Cpdyv-QcLF9H"
      },
      "outputs": [],
      "source": [
        "fb_likes.dtype"
      ]
    },
    {
      "cell_type": "code",
      "execution_count": null,
      "metadata": {
        "lines_to_next_cell": 2,
        "id": "Fg7qQ6lwLF9M"
      },
      "outputs": [],
      "source": [
        "director.head()"
      ]
    },
    {
      "cell_type": "code",
      "execution_count": null,
      "metadata": {
        "lines_to_next_cell": 2,
        "id": "lofWdEfkLF9O"
      },
      "outputs": [],
      "source": [
        "director.sample(n=5, random_state=42)"
      ]
    },
    {
      "cell_type": "code",
      "execution_count": null,
      "metadata": {
        "lines_to_next_cell": 2,
        "id": "879WLw6pLF9O"
      },
      "outputs": [],
      "source": [
        "fb_likes.head()"
      ]
    },
    {
      "cell_type": "code",
      "execution_count": null,
      "metadata": {
        "lines_to_next_cell": 2,
        "id": "vcEFgTQILF9P"
      },
      "outputs": [],
      "source": [
        "director.value_counts()"
      ]
    },
    {
      "cell_type": "code",
      "execution_count": null,
      "metadata": {
        "lines_to_next_cell": 2,
        "id": "tip5_PwBLF9P"
      },
      "outputs": [],
      "source": [
        "fb_likes.value_counts()"
      ]
    },
    {
      "cell_type": "code",
      "execution_count": null,
      "metadata": {
        "lines_to_next_cell": 2,
        "id": "SI5m7wlhLF9Q"
      },
      "outputs": [],
      "source": [
        "director.size"
      ]
    },
    {
      "cell_type": "code",
      "execution_count": null,
      "metadata": {
        "lines_to_next_cell": 2,
        "id": "PsMIuBzkLF9Q"
      },
      "outputs": [],
      "source": [
        "director.shape"
      ]
    },
    {
      "cell_type": "code",
      "execution_count": null,
      "metadata": {
        "lines_to_next_cell": 2,
        "id": "XUSzEmRZLF9S"
      },
      "outputs": [],
      "source": [
        "len(director)"
      ]
    },
    {
      "cell_type": "code",
      "execution_count": null,
      "metadata": {
        "lines_to_next_cell": 2,
        "id": "gtwgb_DbLF9S"
      },
      "outputs": [],
      "source": [
        "director.unique()"
      ]
    },
    {
      "cell_type": "code",
      "execution_count": null,
      "metadata": {
        "lines_to_next_cell": 2,
        "id": "E0WD4leHLF9T"
      },
      "outputs": [],
      "source": [
        "director.count()"
      ]
    },
    {
      "cell_type": "code",
      "execution_count": null,
      "metadata": {
        "lines_to_next_cell": 2,
        "id": "xCDPmkurLF9T"
      },
      "outputs": [],
      "source": [
        "fb_likes.count()"
      ]
    },
    {
      "cell_type": "code",
      "execution_count": null,
      "metadata": {
        "lines_to_next_cell": 2,
        "id": "gz97iLiTLF9T"
      },
      "outputs": [],
      "source": [
        "fb_likes.quantile()"
      ]
    },
    {
      "cell_type": "code",
      "execution_count": null,
      "metadata": {
        "lines_to_next_cell": 2,
        "id": "PLhCMkLKLF9W"
      },
      "outputs": [],
      "source": [
        "fb_likes.min()"
      ]
    },
    {
      "cell_type": "code",
      "execution_count": null,
      "metadata": {
        "lines_to_next_cell": 2,
        "id": "nHCdKEvcLF9W"
      },
      "outputs": [],
      "source": [
        "fb_likes.max()"
      ]
    },
    {
      "cell_type": "code",
      "execution_count": null,
      "metadata": {
        "lines_to_next_cell": 2,
        "id": "00CwVrwuLF9X"
      },
      "outputs": [],
      "source": [
        "fb_likes.mean()"
      ]
    },
    {
      "cell_type": "code",
      "execution_count": null,
      "metadata": {
        "lines_to_next_cell": 2,
        "id": "KWN_d98jLF9X"
      },
      "outputs": [],
      "source": [
        "fb_likes.median()"
      ]
    },
    {
      "cell_type": "code",
      "execution_count": null,
      "metadata": {
        "lines_to_next_cell": 2,
        "id": "vHzw6juNLF9Y"
      },
      "outputs": [],
      "source": [
        "fb_likes.std()"
      ]
    },
    {
      "cell_type": "code",
      "execution_count": null,
      "metadata": {
        "lines_to_next_cell": 2,
        "id": "K5BJfb6DLF9Y"
      },
      "outputs": [],
      "source": [
        "fb_likes.describe()"
      ]
    },
    {
      "cell_type": "code",
      "execution_count": null,
      "metadata": {
        "lines_to_next_cell": 2,
        "id": "oELTPSoSLF9a"
      },
      "outputs": [],
      "source": [
        "director.describe()"
      ]
    },
    {
      "cell_type": "code",
      "execution_count": null,
      "metadata": {
        "lines_to_next_cell": 2,
        "id": "7wLFxGSaLF9a"
      },
      "outputs": [],
      "source": [
        "fb_likes.quantile(.2)"
      ]
    },
    {
      "cell_type": "code",
      "execution_count": null,
      "metadata": {
        "lines_to_next_cell": 2,
        "id": "SAsFNX0ILF9b"
      },
      "outputs": [],
      "source": [
        "fb_likes.quantile([.1, .2, .3, .4, .5, .6, .7, .8, .9])"
      ]
    },
    {
      "cell_type": "code",
      "execution_count": null,
      "metadata": {
        "lines_to_next_cell": 2,
        "id": "eAZwSXuRLF9b"
      },
      "outputs": [],
      "source": [
        "director.isna()"
      ]
    },
    {
      "cell_type": "code",
      "execution_count": null,
      "metadata": {
        "lines_to_next_cell": 2,
        "id": "sqmMau6xLF9c"
      },
      "outputs": [],
      "source": [
        "fb_likes_filled = fb_likes.fillna(0)\n",
        "fb_likes_filled.count()"
      ]
    },
    {
      "cell_type": "code",
      "execution_count": null,
      "metadata": {
        "lines_to_next_cell": 2,
        "id": "YJhqIDX0LF9c"
      },
      "outputs": [],
      "source": [
        "fb_likes_dropped = fb_likes.dropna()\n",
        "fb_likes_dropped.size"
      ]
    },
    {
      "cell_type": "markdown",
      "metadata": {
        "id": "bipYv9GJLF9d"
      },
      "source": [
        "### How it works..."
      ]
    },
    {
      "cell_type": "markdown",
      "metadata": {
        "id": "kx5iPW9VLF9d"
      },
      "source": [
        "### There's more..."
      ]
    },
    {
      "cell_type": "code",
      "execution_count": null,
      "metadata": {
        "lines_to_next_cell": 2,
        "id": "-CSsjmvdLF9d"
      },
      "outputs": [],
      "source": [
        "director.value_counts(normalize=True)"
      ]
    },
    {
      "cell_type": "code",
      "execution_count": null,
      "metadata": {
        "lines_to_next_cell": 2,
        "id": "yKiW_rBPLF9e"
      },
      "outputs": [],
      "source": [
        "director.hasnans"
      ]
    },
    {
      "cell_type": "code",
      "execution_count": null,
      "metadata": {
        "lines_to_next_cell": 2,
        "id": "aEvQpiTKLF9e"
      },
      "outputs": [],
      "source": [
        "director.notna()"
      ]
    },
    {
      "cell_type": "markdown",
      "metadata": {
        "id": "3LLevmZ_LF9g"
      },
      "source": [
        "### See also"
      ]
    },
    {
      "cell_type": "markdown",
      "metadata": {
        "id": "F-f2_m9vLF9h"
      },
      "source": [
        "## Series Operations"
      ]
    },
    {
      "cell_type": "code",
      "execution_count": null,
      "metadata": {
        "lines_to_next_cell": 2,
        "id": "ayf3IAF9LF9h"
      },
      "outputs": [],
      "source": [
        "5 + 9    # plus operator example. Adds 5 and 9"
      ]
    },
    {
      "cell_type": "markdown",
      "metadata": {
        "id": "gLbVJqTELF9i"
      },
      "source": [
        "### How to do it... {#how-to-do-it-5}"
      ]
    },
    {
      "cell_type": "code",
      "execution_count": null,
      "metadata": {
        "lines_to_next_cell": 2,
        "id": "3_5dgGLiLF9l"
      },
      "outputs": [],
      "source": [
        "movies = pd.read_csv('data/movie.csv')\n",
        "imdb_score = movies['imdb_score']\n",
        "imdb_score"
      ]
    },
    {
      "cell_type": "code",
      "execution_count": null,
      "metadata": {
        "lines_to_next_cell": 2,
        "id": "7R0mwaypLF9m"
      },
      "outputs": [],
      "source": [
        "imdb_score + 1"
      ]
    },
    {
      "cell_type": "code",
      "execution_count": null,
      "metadata": {
        "lines_to_next_cell": 2,
        "id": "aQ5TLPeALF9m"
      },
      "outputs": [],
      "source": [
        "imdb_score * 2.5"
      ]
    },
    {
      "cell_type": "code",
      "execution_count": null,
      "metadata": {
        "lines_to_next_cell": 2,
        "id": "_V4eWQPHLF9n"
      },
      "outputs": [],
      "source": [
        "imdb_score // 7"
      ]
    },
    {
      "cell_type": "code",
      "execution_count": null,
      "metadata": {
        "lines_to_next_cell": 2,
        "id": "3iPhTsmkLF9n"
      },
      "outputs": [],
      "source": [
        "imdb_score > 7"
      ]
    },
    {
      "cell_type": "code",
      "execution_count": null,
      "metadata": {
        "lines_to_next_cell": 2,
        "id": "613aA5eILF9n"
      },
      "outputs": [],
      "source": [
        "director = movies['director_name']\n",
        "director == 'James Cameron'"
      ]
    },
    {
      "cell_type": "markdown",
      "metadata": {
        "id": "nHT-jzXYLF9o"
      },
      "source": [
        "### How it works..."
      ]
    },
    {
      "cell_type": "markdown",
      "metadata": {
        "id": "ObUMXYkFLF9o"
      },
      "source": [
        "### There's more..."
      ]
    },
    {
      "cell_type": "code",
      "execution_count": null,
      "metadata": {
        "lines_to_next_cell": 2,
        "id": "MEdBekOLLF9o"
      },
      "outputs": [],
      "source": [
        "imdb_score.add(1)   # imdb_score + 1"
      ]
    },
    {
      "cell_type": "code",
      "execution_count": null,
      "metadata": {
        "lines_to_next_cell": 2,
        "id": "-DNUrbsOLF9s"
      },
      "outputs": [],
      "source": [
        "imdb_score.gt(7)   # imdb_score > 7"
      ]
    },
    {
      "cell_type": "markdown",
      "metadata": {
        "id": "2N02XKrkLF9t"
      },
      "source": [
        "### See also"
      ]
    },
    {
      "cell_type": "markdown",
      "metadata": {
        "id": "IuEsVW3lLF9t"
      },
      "source": [
        "## Chaining Series Methods"
      ]
    },
    {
      "cell_type": "markdown",
      "metadata": {
        "id": "W6yPaGxRLF9t"
      },
      "source": [
        "### How to do it... {#how-to-do-it-6}"
      ]
    },
    {
      "cell_type": "code",
      "execution_count": null,
      "metadata": {
        "lines_to_next_cell": 2,
        "id": "GFJI2p35LF9u"
      },
      "outputs": [],
      "source": [
        "movies = pd.read_csv('data/movie.csv')\n",
        "fb_likes = movies['actor_1_facebook_likes']\n",
        "director = movies['director_name']"
      ]
    },
    {
      "cell_type": "code",
      "execution_count": null,
      "metadata": {
        "lines_to_next_cell": 2,
        "id": "Z70eyj79LF9u"
      },
      "outputs": [],
      "source": [
        "director.value_counts().head(3)"
      ]
    },
    {
      "cell_type": "code",
      "execution_count": null,
      "metadata": {
        "lines_to_next_cell": 2,
        "id": "EjnliYv0LF9v"
      },
      "outputs": [],
      "source": [
        "fb_likes.isna().sum()"
      ]
    },
    {
      "cell_type": "code",
      "execution_count": null,
      "metadata": {
        "lines_to_next_cell": 2,
        "id": "f5xXqUs7LF9v"
      },
      "outputs": [],
      "source": [
        "fb_likes.dtype"
      ]
    },
    {
      "cell_type": "code",
      "execution_count": null,
      "metadata": {
        "lines_to_next_cell": 2,
        "id": "sPthhG5FLF9v"
      },
      "outputs": [],
      "source": [
        "(fb_likes.fillna(0)\n",
        "         .astype(int)\n",
        "         .head()\n",
        ")"
      ]
    },
    {
      "cell_type": "markdown",
      "metadata": {
        "id": "cf_ogD__LF9w"
      },
      "source": [
        "### How it works..."
      ]
    },
    {
      "cell_type": "markdown",
      "metadata": {
        "id": "QQkM_bUdLF9x"
      },
      "source": [
        "### There's more..."
      ]
    },
    {
      "cell_type": "code",
      "execution_count": null,
      "metadata": {
        "lines_to_next_cell": 2,
        "id": "YsV_eSl7LF9x"
      },
      "outputs": [],
      "source": [
        "(fb_likes.fillna(0)\n",
        "         #.astype(int)\n",
        "         #.head()\n",
        ")"
      ]
    },
    {
      "cell_type": "code",
      "execution_count": null,
      "metadata": {
        "lines_to_next_cell": 2,
        "id": "yo6ZtdznLF9x"
      },
      "outputs": [],
      "source": [
        "(fb_likes.fillna(0)\n",
        "         .astype(int)\n",
        "         #.head()\n",
        ")"
      ]
    },
    {
      "cell_type": "code",
      "execution_count": null,
      "metadata": {
        "lines_to_next_cell": 2,
        "id": "ynxCVKP3LF9y"
      },
      "outputs": [],
      "source": [
        "fb_likes.isna().mean()"
      ]
    },
    {
      "cell_type": "code",
      "execution_count": null,
      "metadata": {
        "id": "aQbwDT_aLF9y"
      },
      "outputs": [],
      "source": [
        "fb_likes.fillna(0) \\\n",
        "        .astype(int) \\\n",
        "        .head()"
      ]
    },
    {
      "cell_type": "code",
      "execution_count": null,
      "metadata": {
        "id": "8eNC1sQULF9z"
      },
      "outputs": [],
      "source": [
        "def debug_df(df):\n",
        "    print(\"BEFORE\")\n",
        "    print(df)\n",
        "    print(\"AFTER\")\n",
        "    return df"
      ]
    },
    {
      "cell_type": "code",
      "execution_count": null,
      "metadata": {
        "lines_to_next_cell": 2,
        "id": "hyYOKO7lLF9z"
      },
      "outputs": [],
      "source": [
        "(fb_likes.fillna(0)\n",
        "         .pipe(debug_df)\n",
        "         .astype(int) \n",
        "         .head()\n",
        ")"
      ]
    },
    {
      "cell_type": "code",
      "execution_count": null,
      "metadata": {
        "id": "aDN4wrXyLF90"
      },
      "outputs": [],
      "source": [
        "intermediate = None\n",
        "def get_intermediate(df):\n",
        "    global intermediate\n",
        "    intermediate = df\n",
        "    return df"
      ]
    },
    {
      "cell_type": "code",
      "execution_count": null,
      "metadata": {
        "lines_to_next_cell": 2,
        "id": "BlaNJlc-LF90"
      },
      "outputs": [],
      "source": [
        "res = (fb_likes.fillna(0)\n",
        "         .pipe(get_intermediate)\n",
        "         .astype(int) \n",
        "         .head()\n",
        ")"
      ]
    },
    {
      "cell_type": "code",
      "execution_count": null,
      "metadata": {
        "lines_to_next_cell": 2,
        "id": "4dITkgF4LF91"
      },
      "outputs": [],
      "source": [
        "intermediate"
      ]
    },
    {
      "cell_type": "markdown",
      "metadata": {
        "id": "S21jXDOBLF91"
      },
      "source": [
        "## Renaming Column Names"
      ]
    },
    {
      "cell_type": "markdown",
      "metadata": {
        "id": "_7zjBp1XLF92"
      },
      "source": [
        "### How to do it..."
      ]
    },
    {
      "cell_type": "code",
      "execution_count": null,
      "metadata": {
        "lines_to_next_cell": 2,
        "id": "IB5Fx3lyLF93"
      },
      "outputs": [],
      "source": [
        "movies = pd.read_csv('data/movie.csv')"
      ]
    },
    {
      "cell_type": "code",
      "execution_count": null,
      "metadata": {
        "lines_to_next_cell": 2,
        "id": "i2bf7DABLF93"
      },
      "outputs": [],
      "source": [
        "col_map = {'director_name':'Director Name', \n",
        "             'num_critic_for_reviews': 'Critical Reviews'} "
      ]
    },
    {
      "cell_type": "code",
      "execution_count": null,
      "metadata": {
        "lines_to_next_cell": 2,
        "id": "nvjXgJucLF-V"
      },
      "outputs": [],
      "source": [
        "movies.rename(columns=col_map).head()"
      ]
    },
    {
      "cell_type": "markdown",
      "metadata": {
        "id": "XffJ3iwJLF-Z"
      },
      "source": [
        "### How it works... {#how-it-works-8}"
      ]
    },
    {
      "cell_type": "markdown",
      "metadata": {
        "id": "vwU36D5GLF-a"
      },
      "source": [
        "### There's more {#theres-more-7}"
      ]
    },
    {
      "cell_type": "code",
      "execution_count": null,
      "metadata": {
        "lines_to_next_cell": 2,
        "id": "Ddyyjv-oLF-i"
      },
      "outputs": [],
      "source": [
        "idx_map = {'Avatar':'Ratava', 'Spectre': 'Ertceps',\n",
        "  \"Pirates of the Caribbean: At World's End\": 'POC'}\n",
        "col_map = {'aspect_ratio': 'aspect',\n",
        "  \"movie_facebook_likes\": 'fblikes'}\n",
        "(movies\n",
        "   .set_index('movie_title')\n",
        "   .rename(index=idx_map, columns=col_map)\n",
        "   .head(3)\n",
        ")"
      ]
    },
    {
      "cell_type": "code",
      "execution_count": null,
      "metadata": {
        "lines_to_next_cell": 2,
        "id": "G3jlw10ULF-j"
      },
      "outputs": [],
      "source": [
        "movies = pd.read_csv('data/movie.csv', index_col='movie_title')\n",
        "ids = movies.index.tolist()\n",
        "columns = movies.columns.tolist()"
      ]
    },
    {
      "cell_type": "markdown",
      "metadata": {
        "id": "vqzaW4p6LF-k"
      },
      "source": [
        "# rename the row and column labels with list assignments"
      ]
    },
    {
      "cell_type": "code",
      "execution_count": null,
      "metadata": {
        "lines_to_next_cell": 2,
        "id": "lr6ByZnqLF-l"
      },
      "outputs": [],
      "source": [
        "ids[0] = 'Ratava'\n",
        "ids[1] = 'POC'\n",
        "ids[2] = 'Ertceps'\n",
        "columns[1] = 'director'\n",
        "columns[-2] = 'aspect'\n",
        "columns[-1] = 'fblikes'\n",
        "movies.index = ids\n",
        "movies.columns = columns"
      ]
    },
    {
      "cell_type": "code",
      "execution_count": null,
      "metadata": {
        "id": "koXEM9epLF-m"
      },
      "outputs": [],
      "source": [
        "movies.head(3)"
      ]
    },
    {
      "cell_type": "code",
      "execution_count": null,
      "metadata": {
        "id": "s2Q_tgSxLF-p"
      },
      "outputs": [],
      "source": [
        "def to_clean(val):\n",
        "    return val.strip().lower().replace(' ', '_')"
      ]
    },
    {
      "cell_type": "code",
      "execution_count": null,
      "metadata": {
        "lines_to_next_cell": 2,
        "id": "YNKJK0YhLF-q"
      },
      "outputs": [],
      "source": [
        "movies.rename(columns=to_clean).head(3)"
      ]
    },
    {
      "cell_type": "code",
      "execution_count": null,
      "metadata": {
        "lines_to_next_cell": 2,
        "id": "xpXwX-ypLF-q"
      },
      "outputs": [],
      "source": [
        "cols = [col.strip().lower().replace(' ', '_')\n",
        "        for col in movies.columns]\n",
        "movies.columns = cols\n",
        "movies.head(3)"
      ]
    },
    {
      "cell_type": "markdown",
      "metadata": {
        "id": "eUa2rxnwLF-r"
      },
      "source": [
        "## Creating and Deleting columns"
      ]
    },
    {
      "cell_type": "markdown",
      "metadata": {
        "id": "Ym8b560ALF-t"
      },
      "source": [
        "### How to do it... {#how-to-do-it-9}"
      ]
    },
    {
      "cell_type": "code",
      "execution_count": null,
      "metadata": {
        "lines_to_next_cell": 2,
        "id": "mPxugIsBLF-u"
      },
      "outputs": [],
      "source": [
        "movies = pd.read_csv('data/movie.csv')\n",
        "movies['has_seen'] = 0"
      ]
    },
    {
      "cell_type": "code",
      "execution_count": null,
      "metadata": {
        "lines_to_next_cell": 2,
        "id": "LV8ZjvEpLF-u"
      },
      "outputs": [],
      "source": [
        "idx_map = {'Avatar':'Ratava', 'Spectre': 'Ertceps',\n",
        "  \"Pirates of the Caribbean: At World's End\": 'POC'}\n",
        "col_map = {'aspect_ratio': 'aspect',\n",
        "  \"movie_facebook_likes\": 'fblikes'}\n",
        "(movies\n",
        "   .rename(index=idx_map, columns=col_map)\n",
        "   .assign(has_seen=0)\n",
        ")"
      ]
    },
    {
      "cell_type": "code",
      "execution_count": null,
      "metadata": {
        "lines_to_next_cell": 2,
        "id": "CqG7nGWlLF-u"
      },
      "outputs": [],
      "source": [
        "total = (movies['actor_1_facebook_likes'] +\n",
        "         movies['actor_2_facebook_likes'] + \n",
        "         movies['actor_3_facebook_likes'] + \n",
        "         movies['director_facebook_likes'])"
      ]
    },
    {
      "cell_type": "code",
      "execution_count": null,
      "metadata": {
        "lines_to_next_cell": 2,
        "id": "u7gXGiEfLF-v"
      },
      "outputs": [],
      "source": [
        "total.head(5)"
      ]
    },
    {
      "cell_type": "code",
      "execution_count": null,
      "metadata": {
        "lines_to_next_cell": 2,
        "id": "0_vdElLXLF-v"
      },
      "outputs": [],
      "source": [
        "cols = ['actor_1_facebook_likes','actor_2_facebook_likes',\n",
        "    'actor_3_facebook_likes','director_facebook_likes']\n",
        "sum_col = movies[cols].sum(axis='columns')\n",
        "sum_col.head(5)"
      ]
    },
    {
      "cell_type": "code",
      "execution_count": null,
      "metadata": {
        "id": "UEdfYaN2LF-w"
      },
      "outputs": [],
      "source": [
        "movies.assign(total_likes=sum_col).head(5)"
      ]
    },
    {
      "cell_type": "code",
      "execution_count": null,
      "metadata": {
        "id": "W3PeZ2LdLF-w"
      },
      "outputs": [],
      "source": [
        "def sum_likes(df):\n",
        "   return df[[c for c in df.columns\n",
        "              if 'like' in c]].sum(axis=1)"
      ]
    },
    {
      "cell_type": "code",
      "execution_count": null,
      "metadata": {
        "lines_to_next_cell": 2,
        "id": "HiZbfbzYLF-y"
      },
      "outputs": [],
      "source": [
        "movies.assign(total_likes=sum_likes).head(5)"
      ]
    },
    {
      "cell_type": "code",
      "execution_count": null,
      "metadata": {
        "lines_to_next_cell": 2,
        "id": "ZLlVXc87LF-y"
      },
      "outputs": [],
      "source": [
        "(movies\n",
        "   .assign(total_likes=sum_col)\n",
        "   ['total_likes']\n",
        "   .isna()\n",
        "   .sum()\n",
        ")"
      ]
    },
    {
      "cell_type": "code",
      "execution_count": null,
      "metadata": {
        "lines_to_next_cell": 2,
        "id": "DRBMhffyLF-y"
      },
      "outputs": [],
      "source": [
        "(movies\n",
        "   .assign(total_likes=total)\n",
        "   ['total_likes']\n",
        "   .isna()\n",
        "   .sum()\n",
        ")"
      ]
    },
    {
      "cell_type": "code",
      "execution_count": null,
      "metadata": {
        "id": "gQIknUU5LF-z"
      },
      "outputs": [],
      "source": [
        "(movies\n",
        "   .assign(total_likes=total.fillna(0))\n",
        "   ['total_likes']\n",
        "   .isna()\n",
        "   .sum()\n",
        ")"
      ]
    },
    {
      "cell_type": "code",
      "execution_count": null,
      "metadata": {
        "id": "Nv_vPIkwLF-z"
      },
      "outputs": [],
      "source": [
        "def cast_like_gt_actor_director(df):\n",
        "    return df['cast_total_facebook_likes'] >= \\\n",
        "           df['total_likes']"
      ]
    },
    {
      "cell_type": "code",
      "execution_count": null,
      "metadata": {
        "lines_to_next_cell": 2,
        "id": "zVuxnXTgLF-z"
      },
      "outputs": [],
      "source": [
        "df2 = (movies\n",
        "   .assign(total_likes=total,\n",
        "           is_cast_likes_more = cast_like_gt_actor_director)\n",
        ")"
      ]
    },
    {
      "cell_type": "code",
      "execution_count": null,
      "metadata": {
        "lines_to_next_cell": 2,
        "id": "25ac74lHLF-0"
      },
      "outputs": [],
      "source": [
        "df2['is_cast_likes_more'].all()"
      ]
    },
    {
      "cell_type": "code",
      "execution_count": null,
      "metadata": {
        "lines_to_next_cell": 2,
        "id": "7daSlUv4LF-4"
      },
      "outputs": [],
      "source": [
        "df2 = df2.drop(columns='total_likes')"
      ]
    },
    {
      "cell_type": "code",
      "execution_count": null,
      "metadata": {
        "lines_to_next_cell": 2,
        "id": "XKXykO8yLF-4"
      },
      "outputs": [],
      "source": [
        "actor_sum = (movies\n",
        "   [[c for c in movies.columns if 'actor_' in c and '_likes' in c]]\n",
        "   .sum(axis='columns')\n",
        ")"
      ]
    },
    {
      "cell_type": "code",
      "execution_count": null,
      "metadata": {
        "lines_to_next_cell": 2,
        "id": "fyrW5xb7LF-5"
      },
      "outputs": [],
      "source": [
        "actor_sum.head(5)"
      ]
    },
    {
      "cell_type": "code",
      "execution_count": null,
      "metadata": {
        "lines_to_next_cell": 2,
        "id": "zh3-vEXTLF-7"
      },
      "outputs": [],
      "source": [
        "movies['cast_total_facebook_likes'] >= actor_sum"
      ]
    },
    {
      "cell_type": "code",
      "execution_count": null,
      "metadata": {
        "lines_to_next_cell": 2,
        "id": "FuhEAGIlLF-8"
      },
      "outputs": [],
      "source": [
        "movies['cast_total_facebook_likes'].ge(actor_sum)"
      ]
    },
    {
      "cell_type": "code",
      "execution_count": null,
      "metadata": {
        "lines_to_next_cell": 2,
        "id": "nw-b2RS1LF--"
      },
      "outputs": [],
      "source": [
        "movies['cast_total_facebook_likes'].ge(actor_sum).all()"
      ]
    },
    {
      "cell_type": "code",
      "execution_count": null,
      "metadata": {
        "lines_to_next_cell": 2,
        "id": "am3UeIGYLF-_"
      },
      "outputs": [],
      "source": [
        "pct_like = (actor_sum\n",
        "    .div(movies['cast_total_facebook_likes'])\n",
        ")"
      ]
    },
    {
      "cell_type": "code",
      "execution_count": null,
      "metadata": {
        "lines_to_next_cell": 2,
        "id": "B9SG7QGmLF-_"
      },
      "outputs": [],
      "source": [
        "pct_like.describe()"
      ]
    },
    {
      "cell_type": "code",
      "execution_count": null,
      "metadata": {
        "lines_to_next_cell": 2,
        "id": "oNkSYxJ-LF-_"
      },
      "outputs": [],
      "source": [
        "pd.Series(pct_like.values,\n",
        "    index=movies['movie_title'].values).head()"
      ]
    },
    {
      "cell_type": "markdown",
      "metadata": {
        "id": "VLPY9LjLLF_A"
      },
      "source": [
        "### How it works... {#how-it-works-9}"
      ]
    },
    {
      "cell_type": "markdown",
      "metadata": {
        "id": "0gfAFs7vLF_A"
      },
      "source": [
        "### There's more... {#theres-more-8}"
      ]
    },
    {
      "cell_type": "code",
      "execution_count": null,
      "metadata": {
        "lines_to_next_cell": 2,
        "id": "uUlUddUeLF_A"
      },
      "outputs": [],
      "source": [
        "profit_index = movies.columns.get_loc('gross') + 1\n",
        "profit_index"
      ]
    },
    {
      "cell_type": "code",
      "execution_count": null,
      "metadata": {
        "lines_to_next_cell": 2,
        "id": "FHdqVMoQLF_B"
      },
      "outputs": [],
      "source": [
        "movies.insert(loc=profit_index,\n",
        "              column='profit',\n",
        "              value=movies['gross'] - movies['budget'])"
      ]
    },
    {
      "cell_type": "code",
      "execution_count": null,
      "metadata": {
        "lines_to_next_cell": 2,
        "id": "vah_EZDsLF_B"
      },
      "outputs": [],
      "source": [
        "del movies['director_name']"
      ]
    }
  ],
  "metadata": {
    "jupytext": {
      "cell_metadata_filter": "-all",
      "main_language": "python",
      "notebook_metadata_filter": "-all"
    },
    "colab": {
      "name": "c1-code.ipynb",
      "provenance": []
    },
    "language_info": {
      "name": "python"
    },
    "kernelspec": {
      "name": "python3",
      "display_name": "Python 3"
    }
  },
  "nbformat": 4,
  "nbformat_minor": 0
}